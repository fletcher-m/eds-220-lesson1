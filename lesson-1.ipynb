{
 "cells": [
  {
   "cell_type": "markdown",
   "id": "4b6cc8c5-5138-4c2e-a0ed-269ce5cd54aa",
   "metadata": {},
   "source": [
    "# 'numpy'\n",
    "\n",
    "- numpy has been optimized for processing"
   ]
  },
  {
   "cell_type": "code",
   "execution_count": 1,
   "id": "e3c921b5-8288-4bdf-af81-d660524c3439",
   "metadata": {
    "tags": []
   },
   "outputs": [],
   "source": [
    "# import Numpy with standard abbreviation\n",
    "\n",
    "import numpy as np"
   ]
  },
  {
   "cell_type": "markdown",
   "id": "c57a90cb-f7ee-4c81-a553-ec88fc1dc9a7",
   "metadata": {},
   "source": [
    "# Variables\n",
    "- a name we assign to an object in Python"
   ]
  },
  {
   "cell_type": "code",
   "execution_count": 2,
   "id": "1cd3fcd0-f6c6-4729-8467-6128117c8861",
   "metadata": {
    "tags": []
   },
   "outputs": [],
   "source": [
    "# assign a small array to a variable a\n",
    "\n",
    "a = np.array([[1,1,2], [3,5,8]])"
   ]
  },
  {
   "cell_type": "markdown",
   "id": "4c9b6de6-737a-45a9-ad56-571858ee1f0e",
   "metadata": {},
   "source": [
    "We can see the variable's value in 2 ways:"
   ]
  },
  {
   "cell_type": "code",
   "execution_count": 3,
   "id": "bb68a9b5-eee7-46b7-b8df-a34114496193",
   "metadata": {
    "tags": []
   },
   "outputs": [
    {
     "data": {
      "text/plain": [
       "array([[1, 1, 2],\n",
       "       [3, 5, 8]])"
      ]
     },
     "execution_count": 3,
     "metadata": {},
     "output_type": "execute_result"
    }
   ],
   "source": [
    "a"
   ]
  },
  {
   "cell_type": "code",
   "execution_count": 4,
   "id": "120b4004-6d92-4b25-b3be-da9d3170a2bc",
   "metadata": {
    "tags": []
   },
   "outputs": [
    {
     "name": "stdout",
     "output_type": "stream",
     "text": [
      "[[1 1 2]\n",
      " [3 5 8]]\n"
     ]
    }
   ],
   "source": [
    "print(a)"
   ]
  },
  {
   "cell_type": "markdown",
   "id": "4e5d9224-e03c-4b8c-8833-32543ea5d306",
   "metadata": {},
   "source": [
    "## naming variables\n",
    "\n",
    "in the class, we are going to use 'snake_case' for naming variables.\n",
    "\n",
    "# Variables and objects\n",
    "\n",
    "**object**: often encountered in Python documentation and tutorials.\n",
    "object is a bundle of properties and actions about something specific\n",
    "\n",
    "Example:\n",
    "\n",
    "- object: data frame\n",
    "- properties: number of rows, names of columns, data created\n",
    "- actions: selecting a row, adding a column\n",
    "\n",
    "A variable is a name we give a specific object, and the same object can be referenced by different variables.\n",
    "\n",
    "Example:\n",
    "\n",
    "- The Sun(actual star at the center of the solar system) = object\n",
    "- sol = Spanish word for Sun = variable\n",
    "- soleil = Fren for Sun = another variable\n",
    "\n",
    "In practice: we will use object and variable interchangeably\n",
    "\n"
   ]
  },
  {
   "cell_type": "markdown",
   "id": "f9a4b3e7-a989-460d-839c-256278ce3e48",
   "metadata": {},
   "source": [
    "# Types\n",
    "\n",
    "Each object in Python has a type.\n",
    "\n",
    "type = what kind of object it is\n",
    "\n",
    "We can also call the type of the object, the **class** of the object.\n",
    "\n",
    "We can see the type/class of an object by using the type function"
   ]
  },
  {
   "cell_type": "code",
   "execution_count": 5,
   "id": "fb7d8d25-b0ef-4507-9354-356e7c581f0e",
   "metadata": {
    "tags": []
   },
   "outputs": [
    {
     "name": "stdout",
     "output_type": "stream",
     "text": [
      "[[1 1 2]\n",
      " [3 5 8]]\n"
     ]
    },
    {
     "data": {
      "text/plain": [
       "numpy.ndarray"
      ]
     },
     "execution_count": 5,
     "metadata": {},
     "output_type": "execute_result"
    }
   ],
   "source": [
    "print(a)\n",
    "type(a)"
   ]
  },
  {
   "cell_type": "markdown",
   "id": "80aaf8a2-4885-4fff-80dd-b957a90acf20",
   "metadata": {},
   "source": [
    "The 'numpy.ndarray' is the core object/data type in the NumPy package\n",
    "\n",
    "we can check the type of an entry in the array by indexing:"
   ]
  },
  {
   "cell_type": "code",
   "execution_count": 7,
   "id": "1a136610-19f2-4b99-b9a8-8152b9ca5dc7",
   "metadata": {
    "tags": []
   },
   "outputs": [
    {
     "name": "stdout",
     "output_type": "stream",
     "text": [
      "1\n"
     ]
    },
    {
     "data": {
      "text/plain": [
       "numpy.int64"
      ]
     },
     "execution_count": 7,
     "metadata": {},
     "output_type": "execute_result"
    }
   ],
   "source": [
    "print(a[0,0])\n",
    "type(a[0,0])"
   ]
  },
  {
   "cell_type": "code",
   "execution_count": 8,
   "id": "02e8b12f-fe17-40ae-b53d-5a513e86a8f7",
   "metadata": {
    "tags": []
   },
   "outputs": [],
   "source": [
    "# how would you access the value 5 in the array a?"
   ]
  },
  {
   "cell_type": "code",
   "execution_count": 9,
   "id": "7fd93e8b-aa51-4301-97b5-a3582b0bfb3a",
   "metadata": {
    "tags": []
   },
   "outputs": [
    {
     "name": "stdout",
     "output_type": "stream",
     "text": [
      "5\n"
     ]
    }
   ],
   "source": [
    "print(a[1,1])"
   ]
  },
  {
   "cell_type": "markdown",
   "id": "1b406083-c063-46c4-994a-db1e3f9cf89b",
   "metadata": {
    "tags": []
   },
   "source": [
    "# Functions\n",
    "\n",
    "'print' was our first example of a Python function:\n",
    "    \n",
    "A function:\n",
    "- take in a set of **arguments**, separated by commas, and\n",
    "- use those arguments to produce some **output**\n",
    "\n",
    "argument = parameter : you might see argument more often in doc.\n",
    "\n",
    "We can ask info by executing ? followed by function name"
   ]
  },
  {
   "cell_type": "code",
   "execution_count": 11,
   "id": "ede53b89-9cef-4629-a138-aaf4a242b5e8",
   "metadata": {
    "tags": []
   },
   "outputs": [
    {
     "data": {
      "text/plain": [
       "\u001b[0;31mDocstring:\u001b[0m\n",
       "print(value, ..., sep=' ', end='\\n', file=sys.stdout, flush=False)\n",
       "\n",
       "Prints the values to a stream, or to sys.stdout by default.\n",
       "Optional keyword arguments:\n",
       "file:  a file-like object (stream); defaults to the current sys.stdout.\n",
       "sep:   string inserted between values, default a space.\n",
       "end:   string appended after the last value, default a newline.\n",
       "flush: whether to forcibly flush the stream.\n",
       "\u001b[0;31mType:\u001b[0m      builtin_function_or_method\n"
      ]
     },
     "metadata": {},
     "output_type": "display_data"
    }
   ],
   "source": [
    "?print"
   ]
  },
  {
   "cell_type": "markdown",
   "id": "790dc88a-30b7-4071-bca0-faf792f0af09",
   "metadata": {},
   "source": [
    "- first line: function showing all of its arguments in parenthesis\n",
    "- then a short description of what the function does\n",
    "- finally, a list of the arguments and a brief expl. of each of them.\n",
    "\n",
    "Different types of arguments inside the parenthesis. Roughly speaking, there are 2 types of arguments:\n",
    "\n",
    "- **non-optional arguments**: arguments you need to specify for the function to do something\n",
    "- **optional arguments**: arguments that are pre-filled with a default value by the function, but we can override them. Optional arguments appear inside the parenthesis."
   ]
  },
  {
   "cell_type": "code",
   "execution_count": 12,
   "id": "4fda27b3-49ac-4722-8b34-94e60d711a6e",
   "metadata": {
    "tags": []
   },
   "outputs": [
    {
     "name": "stdout",
     "output_type": "stream",
     "text": [
      "changing the default end argument of the print function:)"
     ]
    }
   ],
   "source": [
    "print('changing the default end argument of the print function', end=':)')"
   ]
  },
  {
   "cell_type": "code",
   "execution_count": null,
   "id": "4d0f83b3-050d-4abd-b748-a2282d09c649",
   "metadata": {},
   "outputs": [],
   "source": []
  }
 ],
 "metadata": {
  "kernelspec": {
   "display_name": "Python 3 (ipykernel)",
   "language": "python",
   "name": "python3"
  },
  "language_info": {
   "codemirror_mode": {
    "name": "ipython",
    "version": 3
   },
   "file_extension": ".py",
   "mimetype": "text/x-python",
   "name": "python",
   "nbconvert_exporter": "python",
   "pygments_lexer": "ipython3",
   "version": "3.7.13"
  }
 },
 "nbformat": 4,
 "nbformat_minor": 5
}
