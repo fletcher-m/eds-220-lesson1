{
 "cells": [
  {
   "cell_type": "markdown",
   "id": "4b6cc8c5-5138-4c2e-a0ed-269ce5cd54aa",
   "metadata": {},
   "source": [
    "# 'numpy'\n",
    "\n",
    "- numpy has been optimized for processing"
   ]
  },
  {
   "cell_type": "code",
   "execution_count": 1,
   "id": "e3c921b5-8288-4bdf-af81-d660524c3439",
   "metadata": {
    "tags": []
   },
   "outputs": [],
   "source": [
    "# import Numpy with standard abbreviation\n",
    "\n",
    "import numpy as np"
   ]
  },
  {
   "cell_type": "markdown",
   "id": "c57a90cb-f7ee-4c81-a553-ec88fc1dc9a7",
   "metadata": {},
   "source": [
    "# Variables\n",
    "- a name we assign to an object in Python"
   ]
  },
  {
   "cell_type": "code",
   "execution_count": 2,
   "id": "1cd3fcd0-f6c6-4729-8467-6128117c8861",
   "metadata": {
    "tags": []
   },
   "outputs": [],
   "source": [
    "# assign a small array to a variable a\n",
    "\n",
    "a = np.array([[1,1,2], [3,5,8]])"
   ]
  },
  {
   "cell_type": "markdown",
   "id": "4c9b6de6-737a-45a9-ad56-571858ee1f0e",
   "metadata": {},
   "source": [
    "We can see the variable's value in 2 ways:"
   ]
  },
  {
   "cell_type": "code",
   "execution_count": 3,
   "id": "bb68a9b5-eee7-46b7-b8df-a34114496193",
   "metadata": {
    "tags": []
   },
   "outputs": [
    {
     "data": {
      "text/plain": [
       "array([[1, 1, 2],\n",
       "       [3, 5, 8]])"
      ]
     },
     "execution_count": 3,
     "metadata": {},
     "output_type": "execute_result"
    }
   ],
   "source": [
    "a"
   ]
  },
  {
   "cell_type": "code",
   "execution_count": 4,
   "id": "120b4004-6d92-4b25-b3be-da9d3170a2bc",
   "metadata": {
    "tags": []
   },
   "outputs": [
    {
     "name": "stdout",
     "output_type": "stream",
     "text": [
      "[[1 1 2]\n",
      " [3 5 8]]\n"
     ]
    }
   ],
   "source": [
    "print(a)"
   ]
  },
  {
   "cell_type": "markdown",
   "id": "4e5d9224-e03c-4b8c-8833-32543ea5d306",
   "metadata": {},
   "source": [
    "## naming variables\n",
    "\n",
    "in the class, we are going to use 'snake_case' for naming variables.\n",
    "\n",
    "# Variables and objects\n",
    "\n",
    "**object**: often encountered in Python documentation and tutorials.\n",
    "object is a bundle of properties and actions about something specific\n",
    "\n",
    "Example:\n",
    "\n",
    "- object: data frame\n",
    "- properties: number of rows, names of columns, data created\n",
    "- actions: selecting a row, adding a column\n",
    "\n",
    "A variable is a name we give a specific object, and the same object can be referenced by different variables.\n",
    "\n",
    "Example:\n",
    "\n",
    "- The Sun(actual star at the center of the solar system) = object\n",
    "- sol = Spanish word for Sun = variable\n",
    "- soleil = Fren for Sun = another variable\n",
    "\n",
    "In practice: we will use object and variable interchangeably\n",
    "\n"
   ]
  },
  {
   "cell_type": "markdown",
   "id": "f9a4b3e7-a989-460d-839c-256278ce3e48",
   "metadata": {},
   "source": [
    "# Types\n",
    "\n",
    "Each object in Python has a type.\n",
    "\n",
    "type = what kind of object it is\n",
    "\n",
    "We can also call the type of the object, the **class** of the object.\n",
    "\n",
    "We can see the type/class of an object by using the type function"
   ]
  },
  {
   "cell_type": "code",
   "execution_count": 5,
   "id": "fb7d8d25-b0ef-4507-9354-356e7c581f0e",
   "metadata": {
    "tags": []
   },
   "outputs": [
    {
     "name": "stdout",
     "output_type": "stream",
     "text": [
      "[[1 1 2]\n",
      " [3 5 8]]\n"
     ]
    },
    {
     "data": {
      "text/plain": [
       "numpy.ndarray"
      ]
     },
     "execution_count": 5,
     "metadata": {},
     "output_type": "execute_result"
    }
   ],
   "source": [
    "print(a)\n",
    "type(a)"
   ]
  },
  {
   "cell_type": "markdown",
   "id": "80aaf8a2-4885-4fff-80dd-b957a90acf20",
   "metadata": {},
   "source": [
    "The 'numpy.ndarray' is the core object/data type in the NumPy package\n",
    "\n",
    "we can check the type of an entry in the array by indexing:"
   ]
  },
  {
   "cell_type": "code",
   "execution_count": 7,
   "id": "1a136610-19f2-4b99-b9a8-8152b9ca5dc7",
   "metadata": {
    "tags": []
   },
   "outputs": [
    {
     "name": "stdout",
     "output_type": "stream",
     "text": [
      "1\n"
     ]
    },
    {
     "data": {
      "text/plain": [
       "numpy.int64"
      ]
     },
     "execution_count": 7,
     "metadata": {},
     "output_type": "execute_result"
    }
   ],
   "source": [
    "print(a[0,0])\n",
    "type(a[0,0])"
   ]
  },
  {
   "cell_type": "code",
   "execution_count": 8,
   "id": "02e8b12f-fe17-40ae-b53d-5a513e86a8f7",
   "metadata": {
    "tags": []
   },
   "outputs": [],
   "source": [
    "# how would you access the value 5 in the array a?"
   ]
  },
  {
   "cell_type": "code",
   "execution_count": 9,
   "id": "7fd93e8b-aa51-4301-97b5-a3582b0bfb3a",
   "metadata": {
    "tags": []
   },
   "outputs": [
    {
     "name": "stdout",
     "output_type": "stream",
     "text": [
      "5\n"
     ]
    }
   ],
   "source": [
    "print(a[1,1])"
   ]
  },
  {
   "cell_type": "markdown",
   "id": "1b406083-c063-46c4-994a-db1e3f9cf89b",
   "metadata": {
    "tags": []
   },
   "source": [
    "# Functions\n",
    "\n",
    "'print' was our first example of a Python function:\n",
    "    \n",
    "A function:\n",
    "- take in a set of **arguments**, separated by commas, and\n",
    "- use those arguments to produce some **output**\n",
    "\n",
    "argument = parameter : you might see argument more often in doc.\n",
    "\n",
    "We can ask info by executing ? followed by function name"
   ]
  },
  {
   "cell_type": "code",
   "execution_count": 11,
   "id": "ede53b89-9cef-4629-a138-aaf4a242b5e8",
   "metadata": {
    "tags": []
   },
   "outputs": [
    {
     "data": {
      "text/plain": [
       "\u001b[0;31mDocstring:\u001b[0m\n",
       "print(value, ..., sep=' ', end='\\n', file=sys.stdout, flush=False)\n",
       "\n",
       "Prints the values to a stream, or to sys.stdout by default.\n",
       "Optional keyword arguments:\n",
       "file:  a file-like object (stream); defaults to the current sys.stdout.\n",
       "sep:   string inserted between values, default a space.\n",
       "end:   string appended after the last value, default a newline.\n",
       "flush: whether to forcibly flush the stream.\n",
       "\u001b[0;31mType:\u001b[0m      builtin_function_or_method\n"
      ]
     },
     "metadata": {},
     "output_type": "display_data"
    }
   ],
   "source": [
    "?print"
   ]
  },
  {
   "cell_type": "markdown",
   "id": "790dc88a-30b7-4071-bca0-faf792f0af09",
   "metadata": {},
   "source": [
    "- first line: function showing all of its arguments in parenthesis\n",
    "- then a short description of what the function does\n",
    "- finally, a list of the arguments and a brief expl. of each of them.\n",
    "\n",
    "Different types of arguments inside the parenthesis. Roughly speaking, there are 2 types of arguments:\n",
    "\n",
    "- **non-optional arguments**: arguments you need to specify for the function to do something\n",
    "- **optional arguments**: arguments that are pre-filled with a default value by the function, but we can override them. Optional arguments appear inside the parenthesis."
   ]
  },
  {
   "cell_type": "code",
   "execution_count": 12,
   "id": "4fda27b3-49ac-4722-8b34-94e60d711a6e",
   "metadata": {
    "tags": []
   },
   "outputs": [
    {
     "name": "stdout",
     "output_type": "stream",
     "text": [
      "changing the default end argument of the print function:)"
     ]
    }
   ],
   "source": [
    "print('changing the default end argument of the print function', end=':)')"
   ]
  },
  {
   "cell_type": "markdown",
   "id": "3d1e09a2-8027-4113-960b-842bb16814c3",
   "metadata": {},
   "source": [
    "# Atributes and Methods\n",
    "\n",
    "An object in Python has attributes and methods\n",
    "\n",
    "**attribute**: property of an object (some can be changed and others cannot)\n",
    "**method**: procedure associated with an object\n",
    "\n",
    "Access a variable's attributes and methods by adding a period'.' at the end of the variable's name\n",
    "\n",
    "'variable.variable_method()'\n",
    "or\n",
    "'variable.variable_attribute()\n",
    "\n",
    "Examples:\n",
    "\n",
    "Methods and attributes of NumPy arrays:\n"
   ]
  },
  {
   "cell_type": "code",
   "execution_count": 1,
   "id": "a7ad25f9-47e7-423d-ae3b-7ccba0ddd60f",
   "metadata": {
    "tags": []
   },
   "outputs": [],
   "source": [
    "import numpy as np"
   ]
  },
  {
   "cell_type": "code",
   "execution_count": 4,
   "id": "f5a84c17-bbe6-4041-b194-bf2becc08a6e",
   "metadata": {
    "tags": []
   },
   "outputs": [
    {
     "data": {
      "text/plain": [
       "array([[1, 2, 3],\n",
       "       [4, 5, 6],\n",
       "       [7, 8, 9]])"
      ]
     },
     "execution_count": 4,
     "metadata": {},
     "output_type": "execute_result"
    }
   ],
   "source": [
    "var = np.array([[1,2,3],[4,5,6],[7,8,9]])\n",
    "var"
   ]
  },
  {
   "cell_type": "code",
   "execution_count": 5,
   "id": "93b26409-55e1-41ca-8c5a-153447c7af50",
   "metadata": {
    "tags": []
   },
   "outputs": [
    {
     "data": {
      "text/plain": [
       "(3, 3)"
      ]
     },
     "execution_count": 5,
     "metadata": {},
     "output_type": "execute_result"
    }
   ],
   "source": [
    "var.shape"
   ]
  },
  {
   "cell_type": "code",
   "execution_count": 6,
   "id": "78d702c0-4bcb-40a1-b909-727a3c97788a",
   "metadata": {
    "tags": []
   },
   "outputs": [
    {
     "data": {
      "text/plain": [
       "tuple"
      ]
     },
     "execution_count": 6,
     "metadata": {},
     "output_type": "execute_result"
    }
   ],
   "source": [
    "type(var.shape)"
   ]
  },
  {
   "cell_type": "code",
   "execution_count": 7,
   "id": "f2b3b145-10f7-401e-820e-807745420be1",
   "metadata": {
    "tags": []
   },
   "outputs": [
    {
     "data": {
      "text/plain": [
       "2"
      ]
     },
     "execution_count": 7,
     "metadata": {},
     "output_type": "execute_result"
    }
   ],
   "source": [
    "# ndim is an attribute holding the number of array dim.\n",
    "\n",
    "var.ndim"
   ]
  },
  {
   "cell_type": "code",
   "execution_count": 8,
   "id": "5db33136-c8da-4350-958f-f7ea23cd829c",
   "metadata": {
    "tags": []
   },
   "outputs": [
    {
     "data": {
      "text/plain": [
       "int"
      ]
     },
     "execution_count": 8,
     "metadata": {},
     "output_type": "execute_result"
    }
   ],
   "source": [
    "type(var.ndim)"
   ]
  },
  {
   "cell_type": "markdown",
   "id": "49c6572e-a48f-40dc-867a-43fc2ed87585",
   "metadata": {},
   "source": [
    "- Notice attributes can have many different data types.\n",
    "\n",
    "Examples of methods:"
   ]
  },
  {
   "cell_type": "code",
   "execution_count": 9,
   "id": "5f4cafcc-36ea-45fb-a5d3-fb7cd8943d37",
   "metadata": {
    "tags": []
   },
   "outputs": [
    {
     "data": {
      "text/plain": [
       "1"
      ]
     },
     "execution_count": 9,
     "metadata": {},
     "output_type": "execute_result"
    }
   ],
   "source": [
    "# min method for array\n",
    "# return the min value in the array\n",
    "\n",
    "var.min()"
   ]
  },
  {
   "cell_type": "code",
   "execution_count": 10,
   "id": "f375136a-56f2-4862-a6ca-687a734283a3",
   "metadata": {
    "tags": []
   },
   "outputs": [
    {
     "data": {
      "text/plain": [
       "builtin_function_or_method"
      ]
     },
     "execution_count": 10,
     "metadata": {},
     "output_type": "execute_result"
    }
   ],
   "source": [
    "type(var.min)"
   ]
  },
  {
   "cell_type": "code",
   "execution_count": null,
   "id": "83b1448b-004d-4673-b5e3-45213325af9a",
   "metadata": {},
   "outputs": [],
   "source": [
    "# R and Python\n",
    "\n",
    "R:\n",
    "- doesn't use methods within an object\n",
    "- functions in R are extrinsic to (outside) the objects they are acting on\n",
    "\n",
    "Ex: recreate getting the min value in an array\n",
    "\n",
    "In R there would be 2 separate items: the variable 'var' and a separate function 'min' that gets 'var' as a parameter\n",
    "\n",
    "# this is R code\n",
    "var <- array(c(1,4,7,2,5,8,3,6,9), dim=c(3,3))\n",
    "min(var)\n",
    "\n",
    "Using the pipe operator >%> in R's tidyverse is closer to the '.' in Python\n",
    "\n",
    "var <- array(c(1,4,7,2,5,8,3,6,9), dim=c(3,3))\n",
    "var >%> min()\n",
    "\n",
    "What is happening?\n",
    "The pipe >%> is passing 'var' to the 'min()' function as its first argument. This is what '.' does in Python.\n",
    "var.min()"
   ]
  }
 ],
 "metadata": {
  "kernelspec": {
   "display_name": "Python 3 (ipykernel)",
   "language": "python",
   "name": "python3"
  },
  "language_info": {
   "codemirror_mode": {
    "name": "ipython",
    "version": 3
   },
   "file_extension": ".py",
   "mimetype": "text/x-python",
   "name": "python",
   "nbconvert_exporter": "python",
   "pygments_lexer": "ipython3",
   "version": "3.7.13"
  }
 },
 "nbformat": 4,
 "nbformat_minor": 5
}
