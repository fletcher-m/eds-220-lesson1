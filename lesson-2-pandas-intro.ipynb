{
 "cells": [
  {
   "cell_type": "markdown",
   "id": "1139efea-78b7-4dc6-b982-fc1a242abf46",
   "metadata": {},
   "source": [
    "# Objectives\n",
    "\n",
    "review core 'pandas' objects: 'pandas.Series' and 'pandas.DataFrame'\n",
    "\n",
    "# pandas\n",
    "- Python package to wrangle and analyze tabular data\n",
    "- built ontop of NumPy\n",
    "- core tool for data analysis in Python\n",
    "\n"
   ]
  },
  {
   "cell_type": "code",
   "execution_count": 1,
   "id": "7a2befdd-43d4-46e9-813a-aa4c48f426e4",
   "metadata": {
    "tags": []
   },
   "outputs": [],
   "source": [
    "# import pandas with standard abbr.\n",
    "import pandas as pd\n",
    "\n",
    "# import NumPy\n",
    "import numpy as np"
   ]
  },
  {
   "cell_type": "markdown",
   "id": "82234faa-c7da-4ab7-826f-9307f253b2a6",
   "metadata": {},
   "source": [
    "# Series\n",
    "\n",
    "A 'pandas.Series':\n",
    "\n",
    "- one of the core data structures in 'pandas'\n",
    "- a 1-dimensional array of *indexed* data\n",
    "- will be the columns of the pandas.DataFrame\n",
    "\n",
    "# Creating a pandas Series\n",
    "\n",
    "Several ways of creating a pandas series.\n",
    "For now, we will create series using:\n",
    "\n",
    "s = pd.Series(data, index=index)\n",
    "\n",
    "- 'data' = numpy array (or a list of objects that can be converted to NumPy types)\n",
    "- 'index' = a list of indices of same length as data"
   ]
  },
  {
   "cell_type": "code",
   "execution_count": 2,
   "id": "d7e9b751-8a2d-4926-b474-32483da9d0ed",
   "metadata": {
    "tags": []
   },
   "outputs": [
    {
     "data": {
      "text/plain": [
       "array([0, 1, 2])"
      ]
     },
     "execution_count": 2,
     "metadata": {},
     "output_type": "execute_result"
    }
   ],
   "source": [
    "#Ex. a pandas series from a numpy array\n",
    "\n",
    "# np.arange() function constructs an array of consecutive integers\n",
    "np.arange(3)"
   ]
  },
  {
   "cell_type": "code",
   "execution_count": 3,
   "id": "bbdd059e-18ff-4b3f-8d06-04982388f3bd",
   "metadata": {
    "tags": []
   },
   "outputs": [
    {
     "data": {
      "text/plain": [
       "a    0\n",
       "b    1\n",
       "c    2\n",
       "dtype: int64"
      ]
     },
     "execution_count": 3,
     "metadata": {},
     "output_type": "execute_result"
    }
   ],
   "source": [
    "# We can use this to create a pandas series\n",
    "pd.Series(np.arange(3), index=['a', 'b', 'c']) "
   ]
  },
  {
   "cell_type": "markdown",
   "id": "7bfc00e4-a53a-4b6d-9d82-39f4410b2137",
   "metadata": {},
   "source": [
    "What kind of parameter is 'index'?\n",
    "\n",
    "A: an optional parameter, there i a default value to it.\n",
    "If we don't specify 'index', the default is to start from 0.\n",
    "\n",
    "Ex:"
   ]
  },
  {
   "cell_type": "code",
   "execution_count": 4,
   "id": "d9d8a242-dc48-4326-aa71-58573fa1981c",
   "metadata": {
    "tags": []
   },
   "outputs": [
    {
     "data": {
      "text/plain": [
       "0    EDS 220\n",
       "1    EDS 222\n",
       "2    EDS 223\n",
       "3    EDS 242\n",
       "dtype: object"
      ]
     },
     "execution_count": 4,
     "metadata": {},
     "output_type": "execute_result"
    }
   ],
   "source": [
    "# Create a series from a list of strings with default index\n",
    "\n",
    "pd.Series(['EDS 220', 'EDS 222', 'EDS 223', 'EDS 242'])"
   ]
  },
  {
   "cell_type": "markdown",
   "id": "f3f975df-fa57-41cd-a53b-b3acde4a92fd",
   "metadata": {},
   "source": [
    "# Operations of series\n",
    "\n",
    "Arithmetic operations work on series and also most NumPy functions.\n",
    "\n",
    "Example:"
   ]
  },
  {
   "cell_type": "code",
   "execution_count": 8,
   "id": "30001458-8075-446a-b8f6-7430d2d30b2d",
   "metadata": {
    "tags": []
   },
   "outputs": [
    {
     "name": "stdout",
     "output_type": "stream",
     "text": [
      "Andrea      98\n",
      "Beth        73\n",
      "Carolina    65\n",
      "dtype: int64 \n",
      "\n",
      "Andrea      9.8\n",
      "Beth        7.3\n",
      "Carolina    6.5\n",
      "dtype: float64\n"
     ]
    }
   ],
   "source": [
    "# define a series\n",
    "s = pd.Series([98, 73, 65], index=['Andrea', 'Beth', 'Carolina'])\n",
    "print(s, '\\n')\n",
    "\n",
    "# divide each element in the series by 10:\n",
    "print(s/10)"
   ]
  },
  {
   "cell_type": "markdown",
   "id": "34f17ba4-b100-4bfc-b9e0-af08fe0d787f",
   "metadata": {},
   "source": [
    "Example: create a new series with 'True'/'False' values indicating whether the elements in the series satisfy a condition or not"
   ]
  },
  {
   "cell_type": "code",
   "execution_count": 9,
   "id": "3c2f7aa9-ee9f-4a62-a136-73d35701c558",
   "metadata": {
    "tags": []
   },
   "outputs": [
    {
     "data": {
      "text/plain": [
       "Andrea       True\n",
       "Beth         True\n",
       "Carolina    False\n",
       "dtype: bool"
      ]
     },
     "execution_count": 9,
     "metadata": {},
     "output_type": "execute_result"
    }
   ],
   "source": [
    "s>70"
   ]
  },
  {
   "cell_type": "markdown",
   "id": "d6d2ac67-f29e-45e1-9569-f49388f764be",
   "metadata": {},
   "source": [
    "This is simple -- but important!! Using conditions on Series is key to select data from dataframes."
   ]
  },
  {
   "cell_type": "markdown",
   "id": "470c4b72-892f-4db5-a04a-ab303ec18ab1",
   "metadata": {},
   "source": [
    "## Attributes and Methods\n",
    "\n",
    "Two examples about identifying missing values.\n",
    "\n",
    "- missing values in 'pandas' are represented by 'np.NaN' = 'not a number'\n",
    "- NaN is a type of float in numpy"
   ]
  },
  {
   "cell_type": "code",
   "execution_count": 11,
   "id": "55e08cd1-61f8-4cb6-904a-723c0da65ebc",
   "metadata": {
    "tags": []
   },
   "outputs": [
    {
     "data": {
      "text/plain": [
       "0    1.0\n",
       "1    2.0\n",
       "2    NaN\n",
       "3    4.0\n",
       "4    NaN\n",
       "dtype: float64"
      ]
     },
     "execution_count": 11,
     "metadata": {},
     "output_type": "execute_result"
    }
   ],
   "source": [
    "# series with NAs in it:\n",
    "s = pd.Series([1,2, np.NaN, 4, np.NaN])\n",
    "s"
   ]
  },
  {
   "cell_type": "markdown",
   "id": "dded153b-0689-415f-b126-a45c327c5a37",
   "metadata": {
    "tags": []
   },
   "source": [
    "'hasnans' = attribute of pandas series and returns TRUE if there are NAs:\n",
    "    "
   ]
  },
  {
   "cell_type": "code",
   "execution_count": 13,
   "id": "63662936-87af-4254-897f-ef2465cf61b1",
   "metadata": {
    "tags": []
   },
   "outputs": [
    {
     "data": {
      "text/plain": [
       "True"
      ]
     },
     "execution_count": 13,
     "metadata": {},
     "output_type": "execute_result"
    }
   ],
   "source": [
    "s.hasnans"
   ]
  },
  {
   "cell_type": "markdown",
   "id": "50ef0533-0f8c-4622-b85d-abc52a6cc911",
   "metadata": {},
   "source": [
    "'isna()' = a *method* fo series, returns a series indicating which elements are NAs:"
   ]
  },
  {
   "cell_type": "code",
   "execution_count": 14,
   "id": "acd8c744-7e9f-4a8d-9b85-bd77ee5e31a5",
   "metadata": {
    "tags": []
   },
   "outputs": [
    {
     "data": {
      "text/plain": [
       "0    False\n",
       "1    False\n",
       "2     True\n",
       "3    False\n",
       "4     True\n",
       "dtype: bool"
      ]
     },
     "execution_count": 14,
     "metadata": {},
     "output_type": "execute_result"
    }
   ],
   "source": [
    "s.isna()"
   ]
  },
  {
   "cell_type": "markdown",
   "id": "1adf456b-b8d9-4b51-a7a6-af4f748fa1fc",
   "metadata": {},
   "source": [
    "# Dataframes\n",
    "\n",
    "'pandas.DataFrame'\n",
    "\n",
    "- most used object in 'pandas'\n",
    "- each column is a 'pandas.Series'\n",
    "\n",
    "# Creating a 'pandas.DataFrame'\n",
    "\n",
    "* Many ways of creating a data frame *\n",
    "\n",
    "Remember dictionaries? They are sets of key-value pair:\n",
    "\n",
    "{ key1: value1,\n",
    "  key2: value2\n",
    "}\n",
    "\n",
    "- keys are column names and values are column values"
   ]
  },
  {
   "cell_type": "code",
   "execution_count": 15,
   "id": "b55d7ab6-5df6-4ca9-87a0-abd92757a78e",
   "metadata": {
    "tags": []
   },
   "outputs": [
    {
     "data": {
      "text/plain": [
       "{'col_name_1': array([0, 1, 2]), 'col_name_2': [3.1, 3.2, 3.3]}"
      ]
     },
     "execution_count": 15,
     "metadata": {},
     "output_type": "execute_result"
    }
   ],
   "source": [
    "# initialize a dictionary with columns' data\n",
    "d = {'col_name_1' : np.arange(3),\n",
    "     'col_name_2' : [3.1, 3.2, 3.3]}\n",
    "d"
   ]
  },
  {
   "cell_type": "code",
   "execution_count": 16,
   "id": "5f6d86b2-40bf-4dc1-8f61-8fe727848d86",
   "metadata": {
    "tags": []
   },
   "outputs": [
    {
     "data": {
      "text/html": [
       "<div>\n",
       "<style scoped>\n",
       "    .dataframe tbody tr th:only-of-type {\n",
       "        vertical-align: middle;\n",
       "    }\n",
       "\n",
       "    .dataframe tbody tr th {\n",
       "        vertical-align: top;\n",
       "    }\n",
       "\n",
       "    .dataframe thead th {\n",
       "        text-align: right;\n",
       "    }\n",
       "</style>\n",
       "<table border=\"1\" class=\"dataframe\">\n",
       "  <thead>\n",
       "    <tr style=\"text-align: right;\">\n",
       "      <th></th>\n",
       "      <th>col_name_1</th>\n",
       "      <th>col_name_2</th>\n",
       "    </tr>\n",
       "  </thead>\n",
       "  <tbody>\n",
       "    <tr>\n",
       "      <th>0</th>\n",
       "      <td>0</td>\n",
       "      <td>3.1</td>\n",
       "    </tr>\n",
       "    <tr>\n",
       "      <th>1</th>\n",
       "      <td>1</td>\n",
       "      <td>3.2</td>\n",
       "    </tr>\n",
       "    <tr>\n",
       "      <th>2</th>\n",
       "      <td>2</td>\n",
       "      <td>3.3</td>\n",
       "    </tr>\n",
       "  </tbody>\n",
       "</table>\n",
       "</div>"
      ],
      "text/plain": [
       "   col_name_1  col_name_2\n",
       "0           0         3.1\n",
       "1           1         3.2\n",
       "2           2         3.3"
      ]
     },
     "execution_count": 16,
     "metadata": {},
     "output_type": "execute_result"
    }
   ],
   "source": [
    "# create data frame\n",
    "df = pd.DataFrame(d)\n",
    "df"
   ]
  },
  {
   "cell_type": "markdown",
   "id": "5204a558-c4b0-406e-b106-ff145ef96748",
   "metadata": {},
   "source": [
    "# In-place operations\n",
    "Let's rename the data frame's columns.\n",
    "We can use a dataframe *method* called 'rename'\n",
    "'rename' takes as an input a dictionary:\n",
    "\n",
    "{ 'col_1_old_name' : 'col_2_new_name',\n",
    "}"
   ]
  },
  {
   "cell_type": "code",
   "execution_count": 24,
   "id": "8282715f-e665-4732-a5b5-e635d9623e95",
   "metadata": {
    "tags": []
   },
   "outputs": [
    {
     "data": {
      "text/html": [
       "<div>\n",
       "<style scoped>\n",
       "    .dataframe tbody tr th:only-of-type {\n",
       "        vertical-align: middle;\n",
       "    }\n",
       "\n",
       "    .dataframe tbody tr th {\n",
       "        vertical-align: top;\n",
       "    }\n",
       "\n",
       "    .dataframe thead th {\n",
       "        text-align: right;\n",
       "    }\n",
       "</style>\n",
       "<table border=\"1\" class=\"dataframe\">\n",
       "  <thead>\n",
       "    <tr style=\"text-align: right;\">\n",
       "      <th></th>\n",
       "      <th>col1</th>\n",
       "      <th>col2</th>\n",
       "    </tr>\n",
       "  </thead>\n",
       "  <tbody>\n",
       "    <tr>\n",
       "      <th>0</th>\n",
       "      <td>0</td>\n",
       "      <td>3.1</td>\n",
       "    </tr>\n",
       "    <tr>\n",
       "      <th>1</th>\n",
       "      <td>1</td>\n",
       "      <td>3.2</td>\n",
       "    </tr>\n",
       "    <tr>\n",
       "      <th>2</th>\n",
       "      <td>2</td>\n",
       "      <td>3.3</td>\n",
       "    </tr>\n",
       "  </tbody>\n",
       "</table>\n",
       "</div>"
      ],
      "text/plain": [
       "   col1  col2\n",
       "0     0   3.1\n",
       "1     1   3.2\n",
       "2     2   3.3"
      ]
     },
     "execution_count": 24,
     "metadata": {},
     "output_type": "execute_result"
    }
   ],
   "source": [
    "#define new column names\n",
    "\n",
    "col_names = { 'col_name_1' : 'col1',\n",
    "              'col_name_2' : 'col2'\n",
    "            }\n",
    "\n",
    "df.rename(columns = col_names)\n"
   ]
  },
  {
   "cell_type": "markdown",
   "id": "9f6a83e3-f6f2-4e5d-b171-5c50a87786f8",
   "metadata": {},
   "source": [
    "df.rename() doesn't change the column names *in place*"
   ]
  },
  {
   "cell_type": "code",
   "execution_count": 26,
   "id": "7c446293-1647-4436-b88a-d93dabf9ead6",
   "metadata": {
    "tags": []
   },
   "outputs": [
    {
     "data": {
      "text/html": [
       "<div>\n",
       "<style scoped>\n",
       "    .dataframe tbody tr th:only-of-type {\n",
       "        vertical-align: middle;\n",
       "    }\n",
       "\n",
       "    .dataframe tbody tr th {\n",
       "        vertical-align: top;\n",
       "    }\n",
       "\n",
       "    .dataframe thead th {\n",
       "        text-align: right;\n",
       "    }\n",
       "</style>\n",
       "<table border=\"1\" class=\"dataframe\">\n",
       "  <thead>\n",
       "    <tr style=\"text-align: right;\">\n",
       "      <th></th>\n",
       "      <th>col1</th>\n",
       "      <th>col2</th>\n",
       "    </tr>\n",
       "  </thead>\n",
       "  <tbody>\n",
       "    <tr>\n",
       "      <th>0</th>\n",
       "      <td>0</td>\n",
       "      <td>3.1</td>\n",
       "    </tr>\n",
       "    <tr>\n",
       "      <th>1</th>\n",
       "      <td>1</td>\n",
       "      <td>3.2</td>\n",
       "    </tr>\n",
       "    <tr>\n",
       "      <th>2</th>\n",
       "      <td>2</td>\n",
       "      <td>3.3</td>\n",
       "    </tr>\n",
       "  </tbody>\n",
       "</table>\n",
       "</div>"
      ],
      "text/plain": [
       "   col1  col2\n",
       "0     0   3.1\n",
       "1     1   3.2\n",
       "2     2   3.3"
      ]
     },
     "execution_count": 26,
     "metadata": {},
     "output_type": "execute_result"
    }
   ],
   "source": [
    "df = df.rename(columns = col_names)\n",
    "df"
   ]
  },
  {
   "cell_type": "code",
   "execution_count": null,
   "id": "9af170cc-06e2-49d2-b369-491c3023a650",
   "metadata": {},
   "outputs": [],
   "source": []
  }
 ],
 "metadata": {
  "kernelspec": {
   "display_name": "Anaconda 3 (Base)",
   "language": "python",
   "name": "base"
  },
  "language_info": {
   "codemirror_mode": {
    "name": "ipython",
    "version": 3
   },
   "file_extension": ".py",
   "mimetype": "text/x-python",
   "name": "python",
   "nbconvert_exporter": "python",
   "pygments_lexer": "ipython3",
   "version": "3.9.13"
  }
 },
 "nbformat": 4,
 "nbformat_minor": 5
}
